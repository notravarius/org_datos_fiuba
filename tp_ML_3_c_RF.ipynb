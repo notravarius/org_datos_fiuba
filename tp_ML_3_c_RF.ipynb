{
  "nbformat": 4,
  "nbformat_minor": 0,
  "metadata": {
    "colab": {
      "name": "TP 3 - Parte 3 (Random Forest)",
      "provenance": []
    },
    "kernelspec": {
      "name": "python3",
      "display_name": "Python 3"
    },
    "language_info": {
      "name": "python"
    }
  },
  "cells": [
    {
      "cell_type": "markdown",
      "metadata": {
        "id": "rLObZU6httYB"
      },
      "source": [
        "# Parte 3 - Modelo 2"
      ]
    },
    {
      "cell_type": "markdown",
      "metadata": {
        "id": "ZJUvvltOtzQZ"
      },
      "source": [
        "## Importo librerias y Data"
      ]
    },
    {
      "cell_type": "code",
      "metadata": {
        "colab": {
          "base_uri": "https://localhost:8080/"
        },
        "id": "Ip0bjcEBtw_p",
        "outputId": "c1e7b9ff-21a9-4868-f406-29a8e75ca3bc"
      },
      "source": [
        "from google.colab import drive\n",
        "drive.mount('/content/gdrive')"
      ],
      "execution_count": null,
      "outputs": [
        {
          "output_type": "stream",
          "name": "stdout",
          "text": [
            "Mounted at /content/gdrive\n"
          ]
        }
      ]
    },
    {
      "cell_type": "code",
      "metadata": {
        "id": "nhDq9mJFt21s"
      },
      "source": [
        "import pandas as pd\n",
        "import numpy as np\n",
        "from sklearn.ensemble import RandomForestClassifier\n",
        "from sklearn.feature_extraction.text import CountVectorizer\n",
        "from sklearn.metrics import classification_report, roc_auc_score\n",
        "from sklearn.model_selection import RandomizedSearchCV"
      ],
      "execution_count": null,
      "outputs": []
    },
    {
      "cell_type": "code",
      "metadata": {
        "id": "WO4fBJTjuesP"
      },
      "source": [
        "train_transaction = pd.read_csv(\"/content/gdrive/MyDrive/Orga_Datos/Data/train_transaction.csv\")\n",
        "train_identity = pd.read_csv(\"/content/gdrive/MyDrive/Orga_Datos/Data/train_identity.csv\")"
      ],
      "execution_count": null,
      "outputs": []
    },
    {
      "cell_type": "code",
      "metadata": {
        "id": "PPNZMS62t4ND"
      },
      "source": [
        "df_train = train_transaction.merge(train_identity, left_on=\"TransactionID\", right_on=\"TransactionID\", how=\"outer\")\n",
        "train_transaction = None\n",
        "train_identity = None"
      ],
      "execution_count": null,
      "outputs": []
    },
    {
      "cell_type": "markdown",
      "metadata": {
        "id": "PKkmUzHJt848"
      },
      "source": [
        "## Separo Train y Validation"
      ]
    },
    {
      "cell_type": "code",
      "metadata": {
        "id": "OkDWJhMnt_DQ"
      },
      "source": [
        "quantile_70 = df_train.TransactionDT.quantile(.7)"
      ],
      "execution_count": null,
      "outputs": []
    },
    {
      "cell_type": "code",
      "metadata": {
        "id": "z7S9LgJkuAqz"
      },
      "source": [
        "X_train= df_train.loc[df_train['TransactionDT'] < quantile_70]"
      ],
      "execution_count": null,
      "outputs": []
    },
    {
      "cell_type": "code",
      "metadata": {
        "id": "Swj8r3GQuBxJ"
      },
      "source": [
        "Y_train = X_train[\"isFraud\"]"
      ],
      "execution_count": null,
      "outputs": []
    },
    {
      "cell_type": "code",
      "metadata": {
        "colab": {
          "base_uri": "https://localhost:8080/"
        },
        "id": "PKR2QpTOuC97",
        "outputId": "c76203ea-fb61-4743-9032-cb50355b2230"
      },
      "source": [
        "X_train['TransactionDT'] = X_train['TransactionDT']/60"
      ],
      "execution_count": null,
      "outputs": [
        {
          "output_type": "stream",
          "name": "stderr",
          "text": [
            "/usr/local/lib/python3.7/dist-packages/ipykernel_launcher.py:1: SettingWithCopyWarning: \n",
            "A value is trying to be set on a copy of a slice from a DataFrame.\n",
            "Try using .loc[row_indexer,col_indexer] = value instead\n",
            "\n",
            "See the caveats in the documentation: https://pandas.pydata.org/pandas-docs/stable/user_guide/indexing.html#returning-a-view-versus-a-copy\n",
            "  \"\"\"Entry point for launching an IPython kernel.\n"
          ]
        }
      ]
    },
    {
      "cell_type": "code",
      "metadata": {
        "id": "sruyzBECuEAz"
      },
      "source": [
        "X_validation = df_train.loc[df_train['TransactionDT'] > quantile_70]"
      ],
      "execution_count": null,
      "outputs": []
    },
    {
      "cell_type": "code",
      "metadata": {
        "id": "7_4HRKjauFbV"
      },
      "source": [
        "Y_validation = X_validation[\"isFraud\"]"
      ],
      "execution_count": null,
      "outputs": []
    },
    {
      "cell_type": "code",
      "metadata": {
        "colab": {
          "base_uri": "https://localhost:8080/"
        },
        "id": "jJlbV-wx1lBA",
        "outputId": "0126e11d-db2e-4f4f-a7fa-5812576889f9"
      },
      "source": [
        "X_validation['TransactionDT'] = X_validation['TransactionDT']/60"
      ],
      "execution_count": null,
      "outputs": [
        {
          "output_type": "stream",
          "name": "stderr",
          "text": [
            "/usr/local/lib/python3.7/dist-packages/ipykernel_launcher.py:1: SettingWithCopyWarning: \n",
            "A value is trying to be set on a copy of a slice from a DataFrame.\n",
            "Try using .loc[row_indexer,col_indexer] = value instead\n",
            "\n",
            "See the caveats in the documentation: https://pandas.pydata.org/pandas-docs/stable/user_guide/indexing.html#returning-a-view-versus-a-copy\n",
            "  \"\"\"Entry point for launching an IPython kernel.\n"
          ]
        }
      ]
    },
    {
      "cell_type": "code",
      "metadata": {
        "id": "9kqL3CEhw6EC"
      },
      "source": [
        "quantile_70 = None\n",
        "df_train = None"
      ],
      "execution_count": null,
      "outputs": []
    },
    {
      "cell_type": "markdown",
      "metadata": {
        "id": "ZwfXHMjDw9FC"
      },
      "source": [
        "## Train"
      ]
    },
    {
      "cell_type": "markdown",
      "metadata": {
        "id": "xnNULjGCPjGf"
      },
      "source": [
        "### One Hot Encoding"
      ]
    },
    {
      "cell_type": "code",
      "metadata": {
        "id": "p8hzvwwjzxn6"
      },
      "source": [
        "low_card = ['ProductCD','card4','card6','M1','M2','M3','M4','M5','M6','M7','M8','M9','id_12','id_15','id_16','id_23','id_27','id_28','id_29','id_34','id_35','id_36','id_37','id_38'\n",
        ",'DeviceType']"
      ],
      "execution_count": null,
      "outputs": []
    },
    {
      "cell_type": "code",
      "metadata": {
        "id": "XXbZK49DHhjh"
      },
      "source": [
        "dum_train = pd.get_dummies(X_train[low_card])"
      ],
      "execution_count": null,
      "outputs": []
    },
    {
      "cell_type": "code",
      "metadata": {
        "id": "tNEXWeY5IOJZ"
      },
      "source": [
        "X_train = pd.concat([X_train,dum_train],axis=1)\n",
        "dum_train = None"
      ],
      "execution_count": null,
      "outputs": []
    },
    {
      "cell_type": "markdown",
      "metadata": {
        "id": "vmsiAEqWPpLz"
      },
      "source": [
        "### Vectorizer"
      ]
    },
    {
      "cell_type": "code",
      "metadata": {
        "id": "T6hK555a0RDQ"
      },
      "source": [
        "X_train.id_31.replace(np.nan,\"unknown\",inplace=True)"
      ],
      "execution_count": null,
      "outputs": []
    },
    {
      "cell_type": "code",
      "metadata": {
        "id": "oiiCj2y30B_E"
      },
      "source": [
        "vectorizer = CountVectorizer(max_features=25)\n",
        "X = vectorizer.fit_transform(X_train.id_31)"
      ],
      "execution_count": null,
      "outputs": []
    },
    {
      "cell_type": "code",
      "metadata": {
        "id": "T0QIc6kT0G9S"
      },
      "source": [
        "X_train[vectorizer.get_feature_names_out()] = X.toarray()"
      ],
      "execution_count": null,
      "outputs": []
    },
    {
      "cell_type": "markdown",
      "metadata": {
        "id": "_ujQUwqCPrPQ"
      },
      "source": [
        "### Mean Encoding"
      ]
    },
    {
      "cell_type": "code",
      "metadata": {
        "id": "Cke2D0QNIQwi"
      },
      "source": [
        "high_card = ['P_emaildomain','R_emaildomain','id_30','id_33','DeviceInfo']"
      ],
      "execution_count": null,
      "outputs": []
    },
    {
      "cell_type": "code",
      "metadata": {
        "id": "oHiKqS0xIR36"
      },
      "source": [
        "for i in high_card:\n",
        "  Mean_encoded_subject = X_train.groupby([i])['isFraud'].mean().to_dict()\n",
        "  X_train[i] =  X_train[i].map(Mean_encoded_subject)"
      ],
      "execution_count": null,
      "outputs": []
    },
    {
      "cell_type": "markdown",
      "metadata": {
        "id": "r5s-fZlYPu-G"
      },
      "source": [
        "### Drops"
      ]
    },
    {
      "cell_type": "code",
      "metadata": {
        "id": "ODpYavbWxFtn"
      },
      "source": [
        "X_train.drop([\"isFraud\",\"id_31\"], axis=1, inplace=True)\n",
        "X_train.drop(low_card, axis=1, inplace=True)"
      ],
      "execution_count": null,
      "outputs": []
    },
    {
      "cell_type": "markdown",
      "metadata": {
        "id": "eYUb_S83Pw4a"
      },
      "source": [
        "### Nulls"
      ]
    },
    {
      "cell_type": "code",
      "metadata": {
        "id": "Adm5Oh3LVvwt"
      },
      "source": [
        "X_train.replace(np.nan,0,inplace=True)"
      ],
      "execution_count": null,
      "outputs": []
    },
    {
      "cell_type": "markdown",
      "metadata": {
        "id": "fnxbLiVUPySD"
      },
      "source": [
        "## Fit Model"
      ]
    },
    {
      "cell_type": "code",
      "metadata": {
        "id": "8L0BqggChSEH"
      },
      "source": [
        "rf_model = RandomForestClassifier(random_state=1)"
      ],
      "execution_count": null,
      "outputs": []
    },
    {
      "cell_type": "code",
      "metadata": {
        "id": "MvMoeU3pMlD4"
      },
      "source": [
        "param_dist = {'n_estimators': [i for i in range(75,126)]}"
      ],
      "execution_count": null,
      "outputs": []
    },
    {
      "cell_type": "code",
      "metadata": {
        "id": "gKgDMpUuMUf8"
      },
      "source": [
        "clf = RandomizedSearchCV(rf_model,param_distributions = param_dist, n_iter=1, cv=2, random_state=1,scoring='roc_auc',n_jobs=1)"
      ],
      "execution_count": null,
      "outputs": []
    },
    {
      "cell_type": "code",
      "metadata": {
        "colab": {
          "base_uri": "https://localhost:8080/"
        },
        "id": "UROSQY5Vr_LQ",
        "outputId": "89f2023f-17df-4ce0-f484-571ec286a628"
      },
      "source": [
        "clf.fit(X_train, Y_train)"
      ],
      "execution_count": null,
      "outputs": [
        {
          "output_type": "execute_result",
          "data": {
            "text/plain": [
              "RandomizedSearchCV(cv=2, estimator=RandomForestClassifier(random_state=1),\n",
              "                   n_iter=1, n_jobs=1,\n",
              "                   param_distributions={'n_estimators': [75, 76, 77, 78, 79, 80,\n",
              "                                                         81, 82, 83, 84, 85, 86,\n",
              "                                                         87, 88, 89, 90, 91, 92,\n",
              "                                                         93, 94, 95, 96, 97, 98,\n",
              "                                                         99, 100, 101, 102, 103,\n",
              "                                                         104, ...]},\n",
              "                   random_state=1, scoring='roc_auc')"
            ]
          },
          "metadata": {},
          "execution_count": 27
        }
      ]
    },
    {
      "cell_type": "markdown",
      "metadata": {
        "id": "jhWn-US2uu39"
      },
      "source": [
        "## Validation"
      ]
    },
    {
      "cell_type": "markdown",
      "metadata": {
        "id": "NxSwGMC_P4v5"
      },
      "source": [
        "### One Hot Encoding"
      ]
    },
    {
      "cell_type": "code",
      "metadata": {
        "id": "AER50mpi0rkP"
      },
      "source": [
        "dum_val = pd.get_dummies(X_validation[low_card])"
      ],
      "execution_count": null,
      "outputs": []
    },
    {
      "cell_type": "code",
      "metadata": {
        "id": "gxUD1uWv2VjH"
      },
      "source": [
        "X_validation = pd.concat([X_validation,dum_val],axis=1)\n",
        "dum_val = None"
      ],
      "execution_count": null,
      "outputs": []
    },
    {
      "cell_type": "markdown",
      "metadata": {
        "id": "cHn6m86tP7Nc"
      },
      "source": [
        "### Vectorizer"
      ]
    },
    {
      "cell_type": "code",
      "metadata": {
        "id": "RVykV6Tf2dNP"
      },
      "source": [
        "X_validation.id_31.replace(np.nan,\"unknown\",inplace=True)"
      ],
      "execution_count": null,
      "outputs": []
    },
    {
      "cell_type": "code",
      "metadata": {
        "id": "qhIEs2gP2upH"
      },
      "source": [
        "vectorizer = CountVectorizer(max_features=25)\n",
        "X = vectorizer.fit_transform(X_validation.id_31)"
      ],
      "execution_count": null,
      "outputs": []
    },
    {
      "cell_type": "code",
      "metadata": {
        "id": "pRCYz7ze2yRJ"
      },
      "source": [
        "X_validation[vectorizer.get_feature_names_out()] = X.toarray()"
      ],
      "execution_count": null,
      "outputs": []
    },
    {
      "cell_type": "markdown",
      "metadata": {
        "id": "p9Yu-B3NP8-a"
      },
      "source": [
        "### Mean Encoding"
      ]
    },
    {
      "cell_type": "code",
      "metadata": {
        "id": "lHS1qptc26GA"
      },
      "source": [
        "for i in high_card:\n",
        "  X_validation[i] =  X_validation[i].map(Mean_encoded_subject)"
      ],
      "execution_count": null,
      "outputs": []
    },
    {
      "cell_type": "markdown",
      "metadata": {
        "id": "A4XjpSAUQCVP"
      },
      "source": [
        "### Drops"
      ]
    },
    {
      "cell_type": "code",
      "metadata": {
        "id": "Ef28-i2fpDH9"
      },
      "source": [
        "X_validation.drop([\"52\",\"59\",\"60\",\"66\",\"ios\",\"isFraud\",\"id_31\"], axis=1, inplace=True)\n",
        "X_validation.drop(low_card, axis=1, inplace=True)"
      ],
      "execution_count": null,
      "outputs": []
    },
    {
      "cell_type": "markdown",
      "metadata": {
        "id": "zm3RrAyWQFFQ"
      },
      "source": [
        "### Nulls"
      ]
    },
    {
      "cell_type": "code",
      "metadata": {
        "id": "vNB_TAsOf7AO"
      },
      "source": [
        "X_validation[[\"card6_charge card\",\"id_34_match_status:-1\",\"15\",\"57\",\"58\",\"61\",\"62\"]] = 0"
      ],
      "execution_count": null,
      "outputs": []
    },
    {
      "cell_type": "code",
      "metadata": {
        "id": "ysBr_sDQp_X1"
      },
      "source": [
        "X_validation = X_validation[list(X_train.columns.values)]"
      ],
      "execution_count": null,
      "outputs": []
    },
    {
      "cell_type": "code",
      "metadata": {
        "id": "BXRhs59X2-V_"
      },
      "source": [
        "X_validation.replace(np.nan,0,inplace=True)"
      ],
      "execution_count": null,
      "outputs": []
    },
    {
      "cell_type": "markdown",
      "metadata": {
        "id": "Z4kB7hwxQIbM"
      },
      "source": [
        "## Predict"
      ]
    },
    {
      "cell_type": "code",
      "metadata": {
        "colab": {
          "base_uri": "https://localhost:8080/"
        },
        "id": "ZL05jB1INbUy",
        "outputId": "af472d2d-0d28-400d-cbb7-f351e350f99d"
      },
      "source": [
        "roc_auc_score(Y_validation,clf.predict_proba(X_validation)[:,1])"
      ],
      "execution_count": null,
      "outputs": [
        {
          "output_type": "execute_result",
          "data": {
            "text/plain": [
              "0.8809431991860457"
            ]
          },
          "metadata": {},
          "execution_count": 63
        }
      ]
    },
    {
      "cell_type": "markdown",
      "metadata": {
        "id": "SwcjjRUziKa4"
      },
      "source": [
        "## Test"
      ]
    },
    {
      "cell_type": "code",
      "metadata": {
        "id": "4XItkCFFGrLe"
      },
      "source": [
        "test_transaction = pd.read_csv(\"/content/gdrive/MyDrive/Orga_Datos/Data/test_transaction.csv\")\n",
        "test_identity = pd.read_csv(\"/content/gdrive/MyDrive/Orga_Datos/Data/test_identity.csv\")"
      ],
      "execution_count": null,
      "outputs": []
    },
    {
      "cell_type": "code",
      "metadata": {
        "id": "IgscCge5Hiwd"
      },
      "source": [
        "df_test = test_transaction.merge(test_identity, left_on=\"TransactionID\", right_on=\"TransactionID\", how=\"outer\")"
      ],
      "execution_count": null,
      "outputs": []
    },
    {
      "cell_type": "code",
      "metadata": {
        "id": "59rbJT2FNW0W"
      },
      "source": [
        "test_transaction = None\n",
        "test_identity = None"
      ],
      "execution_count": null,
      "outputs": []
    },
    {
      "cell_type": "code",
      "metadata": {
        "id": "GPBE5u5cUeHO"
      },
      "source": [
        "df_test.columns = df_test.columns.str.replace(\"id-\", \"id_\")"
      ],
      "execution_count": null,
      "outputs": []
    },
    {
      "cell_type": "code",
      "metadata": {
        "id": "KCxlz5v9Uo1l"
      },
      "source": [
        "df_test[\"TransactionDT\"] = df_test[\"TransactionDT\"]/60"
      ],
      "execution_count": null,
      "outputs": []
    },
    {
      "cell_type": "code",
      "metadata": {
        "id": "KccCd2NVU43G"
      },
      "source": [
        "X_test = df_test\n",
        "df_test = None"
      ],
      "execution_count": null,
      "outputs": []
    },
    {
      "cell_type": "code",
      "metadata": {
        "id": "Q_X3evtjfgSO"
      },
      "source": [
        "dum_df = pd.get_dummies(X_test[low_card])"
      ],
      "execution_count": null,
      "outputs": []
    },
    {
      "cell_type": "code",
      "metadata": {
        "id": "ImHvovi4UzyU"
      },
      "source": [
        "X_test.drop(low_card, axis=1, inplace=True)"
      ],
      "execution_count": null,
      "outputs": []
    },
    {
      "cell_type": "code",
      "metadata": {
        "id": "ae2TQcXFs3HB"
      },
      "source": [
        "X_test = pd.concat([X_test,dum_df],axis=1)"
      ],
      "execution_count": null,
      "outputs": []
    },
    {
      "cell_type": "code",
      "metadata": {
        "id": "T5avfEwFVDVW"
      },
      "source": [
        "for high_card in high_card:\n",
        "  X_test[high_card] = X_test[high_card].map(Mean_encoded_subject)\n",
        "Mean_encoded_subject = None"
      ],
      "execution_count": null,
      "outputs": []
    },
    {
      "cell_type": "code",
      "metadata": {
        "id": "vrh688i5uLkZ"
      },
      "source": [
        "dum_df = None"
      ],
      "execution_count": null,
      "outputs": []
    },
    {
      "cell_type": "code",
      "metadata": {
        "id": "Pf-1StqzVoa8"
      },
      "source": [
        "X_test.replace(np.nan,0,inplace=True)"
      ],
      "execution_count": null,
      "outputs": []
    },
    {
      "cell_type": "code",
      "metadata": {
        "id": "qONamEf_koSN"
      },
      "source": [
        "X_test[['10', 'safari', 'mobile', '63', '64', 'id_34_match_status:0', 'samsung', '62', '61', '65', 'id_34_match_status:-1', '15', '58', '16', '49', 'ie', 'android', 'chrome', 'firefox', 'unknown', 'generic', 'edge', 'for', 'card6_debit or credit', '57', 'desktop', 'browser', '11']]=0"
      ],
      "execution_count": null,
      "outputs": []
    },
    {
      "cell_type": "code",
      "metadata": {
        "id": "U4xM02hdibUW"
      },
      "source": [
        "X_test = X_test[list(X_train.columns.values)]"
      ],
      "execution_count": null,
      "outputs": []
    },
    {
      "cell_type": "markdown",
      "metadata": {
        "id": "ihzUgNUVk8Qw"
      },
      "source": [
        "## Preds"
      ]
    },
    {
      "cell_type": "code",
      "metadata": {
        "id": "XGjf6UVTkj7d"
      },
      "source": [
        "resultados = clf.predict_proba(X_test)"
      ],
      "execution_count": null,
      "outputs": []
    },
    {
      "cell_type": "code",
      "metadata": {
        "id": "qkT_o4xIvWMB"
      },
      "source": [
        "df_resultados = pd.DataFrame(resultados)"
      ],
      "execution_count": null,
      "outputs": []
    },
    {
      "cell_type": "code",
      "metadata": {
        "id": "fVUXS_-FasyO"
      },
      "source": [
        "resulado_final = pd.concat([X_test.TransactionID,df_resultados.iloc[:,1]], axis=1)"
      ],
      "execution_count": null,
      "outputs": []
    },
    {
      "cell_type": "code",
      "metadata": {
        "id": "9vFWM7WmfCLs"
      },
      "source": [
        "resulado_final.columns = ['TransactionID', 'isFraud']"
      ],
      "execution_count": null,
      "outputs": []
    },
    {
      "cell_type": "code",
      "metadata": {
        "colab": {
          "base_uri": "https://localhost:8080/",
          "height": 206
        },
        "id": "rgw-kwYDav39",
        "outputId": "015e66e6-d00a-4dfa-9a49-76bc85091000"
      },
      "source": [
        "resulado_final.head()"
      ],
      "execution_count": null,
      "outputs": [
        {
          "output_type": "execute_result",
          "data": {
            "text/html": [
              "<div>\n",
              "<style scoped>\n",
              "    .dataframe tbody tr th:only-of-type {\n",
              "        vertical-align: middle;\n",
              "    }\n",
              "\n",
              "    .dataframe tbody tr th {\n",
              "        vertical-align: top;\n",
              "    }\n",
              "\n",
              "    .dataframe thead th {\n",
              "        text-align: right;\n",
              "    }\n",
              "</style>\n",
              "<table border=\"1\" class=\"dataframe\">\n",
              "  <thead>\n",
              "    <tr style=\"text-align: right;\">\n",
              "      <th></th>\n",
              "      <th>TransactionID</th>\n",
              "      <th>isFraud</th>\n",
              "    </tr>\n",
              "  </thead>\n",
              "  <tbody>\n",
              "    <tr>\n",
              "      <th>0</th>\n",
              "      <td>3663549</td>\n",
              "      <td>0.010309</td>\n",
              "    </tr>\n",
              "    <tr>\n",
              "      <th>1</th>\n",
              "      <td>3663550</td>\n",
              "      <td>0.041237</td>\n",
              "    </tr>\n",
              "    <tr>\n",
              "      <th>2</th>\n",
              "      <td>3663551</td>\n",
              "      <td>0.041237</td>\n",
              "    </tr>\n",
              "    <tr>\n",
              "      <th>3</th>\n",
              "      <td>3663552</td>\n",
              "      <td>0.010309</td>\n",
              "    </tr>\n",
              "    <tr>\n",
              "      <th>4</th>\n",
              "      <td>3663553</td>\n",
              "      <td>0.041237</td>\n",
              "    </tr>\n",
              "  </tbody>\n",
              "</table>\n",
              "</div>"
            ],
            "text/plain": [
              "   TransactionID   isFraud\n",
              "0        3663549  0.010309\n",
              "1        3663550  0.041237\n",
              "2        3663551  0.041237\n",
              "3        3663552  0.010309\n",
              "4        3663553  0.041237"
            ]
          },
          "metadata": {},
          "execution_count": 70
        }
      ]
    },
    {
      "cell_type": "code",
      "metadata": {
        "id": "SbLt703_bfHl"
      },
      "source": [
        "resulado_final.to_csv('preds_RF.csv', index=False)"
      ],
      "execution_count": null,
      "outputs": []
    }
  ]
}