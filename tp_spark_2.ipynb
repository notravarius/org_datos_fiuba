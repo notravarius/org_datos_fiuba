{
  "nbformat": 4,
  "nbformat_minor": 0,
  "metadata": {
    "colab": {
      "name": "TP 2",
      "provenance": [],
      "collapsed_sections": [
        "iCaZ6fSyier-",
        "EwgW8DFyikkI",
        "050Wq0jWiqaI"
      ]
    },
    "kernelspec": {
      "name": "python3",
      "display_name": "Python 3"
    },
    "language_info": {
      "name": "python"
    }
  },
  "cells": [
    {
      "cell_type": "markdown",
      "metadata": {
        "id": "krmZrF50C4IQ"
      },
      "source": [
        "# Importamos librerias y bajamos los archivos"
      ]
    },
    {
      "cell_type": "code",
      "metadata": {
        "colab": {
          "base_uri": "https://localhost:8080/"
        },
        "id": "KF8ZxS6f2QUg",
        "outputId": "8567e00e-3c23-4955-c8ba-9413bfd29b39"
      },
      "source": [
        "!pip install pyspark\n",
        "!pip install -U -q PyDrive\n",
        "!apt update\n",
        "!apt install openjdk-8-jdk-headless -qq\n",
        "#!apt install default-jre\n",
        "#!apt install default-jdk\n",
        "import os\n",
        "os.environ[\"JAVA_HOME\"] = \"/usr/lib/jvm/java-8-openjdk-amd64\""
      ],
      "execution_count": null,
      "outputs": [
        {
          "output_type": "stream",
          "name": "stdout",
          "text": [
            "Requirement already satisfied: pyspark in /usr/local/lib/python3.7/dist-packages (3.2.0)\n",
            "Requirement already satisfied: py4j==0.10.9.2 in /usr/local/lib/python3.7/dist-packages (from pyspark) (0.10.9.2)\n",
            "Hit:1 https://cloud.r-project.org/bin/linux/ubuntu bionic-cran40/ InRelease\n",
            "Ign:2 https://developer.download.nvidia.com/compute/cuda/repos/ubuntu1804/x86_64  InRelease\n",
            "Get:3 http://security.ubuntu.com/ubuntu bionic-security InRelease [88.7 kB]\n",
            "Ign:4 https://developer.download.nvidia.com/compute/machine-learning/repos/ubuntu1804/x86_64  InRelease\n",
            "Hit:5 https://developer.download.nvidia.com/compute/cuda/repos/ubuntu1804/x86_64  Release\n",
            "Hit:6 https://developer.download.nvidia.com/compute/machine-learning/repos/ubuntu1804/x86_64  Release\n",
            "Hit:7 http://archive.ubuntu.com/ubuntu bionic InRelease\n",
            "Hit:8 http://ppa.launchpad.net/c2d4u.team/c2d4u4.0+/ubuntu bionic InRelease\n",
            "Get:10 http://archive.ubuntu.com/ubuntu bionic-updates InRelease [88.7 kB]\n",
            "Hit:12 http://ppa.launchpad.net/cran/libgit2/ubuntu bionic InRelease\n",
            "Hit:13 http://ppa.launchpad.net/deadsnakes/ppa/ubuntu bionic InRelease\n",
            "Get:14 http://archive.ubuntu.com/ubuntu bionic-backports InRelease [74.6 kB]\n",
            "Hit:15 http://ppa.launchpad.net/graphics-drivers/ppa/ubuntu bionic InRelease\n",
            "Fetched 252 kB in 2s (104 kB/s)\n",
            "Reading package lists... Done\n",
            "Building dependency tree       \n",
            "Reading state information... Done\n",
            "63 packages can be upgraded. Run 'apt list --upgradable' to see them.\n",
            "openjdk-8-jdk-headless is already the newest version (8u292-b10-0ubuntu1~18.04).\n",
            "The following package was automatically installed and is no longer required:\n",
            "  libnvidia-common-460\n",
            "Use 'apt autoremove' to remove it.\n",
            "0 upgraded, 0 newly installed, 0 to remove and 63 not upgraded.\n"
          ]
        }
      ]
    },
    {
      "cell_type": "code",
      "metadata": {
        "id": "OtmSDBsU2uw2"
      },
      "source": [
        "from pydrive.auth import GoogleAuth\n",
        "from pydrive.drive import GoogleDrive\n",
        "from google.colab import auth\n",
        "from oauth2client.client import GoogleCredentials\n",
        "from pyspark.sql import *\n",
        "from pyspark.sql.functions import *\n",
        "from pyspark import SparkContext\n",
        "from pyspark.sql import SQLContext\n",
        "import pandas as pd"
      ],
      "execution_count": null,
      "outputs": []
    },
    {
      "cell_type": "code",
      "metadata": {
        "colab": {
          "base_uri": "https://localhost:8080/"
        },
        "id": "-R4MVcst7w2X",
        "outputId": "ce9ac852-3d37-47de-b958-d193f5ccd4e9"
      },
      "source": [
        "from google.colab import drive \n",
        "drive.mount('/content/gdrive')"
      ],
      "execution_count": null,
      "outputs": [
        {
          "output_type": "stream",
          "name": "stdout",
          "text": [
            "Drive already mounted at /content/gdrive; to attempt to forcibly remount, call drive.mount(\"/content/gdrive\", force_remount=True).\n"
          ]
        }
      ]
    },
    {
      "cell_type": "code",
      "metadata": {
        "id": "iN8nsjf98Cho"
      },
      "source": [
        "spark = SparkSession.builder.getOrCreate()\n",
        "sc = spark.sparkContext"
      ],
      "execution_count": null,
      "outputs": []
    },
    {
      "cell_type": "markdown",
      "metadata": {
        "id": "iCaZ6fSyier-"
      },
      "source": [
        "# 34. ¿Quién es el usuario que más ha bloqueado a otros? (1)"
      ]
    },
    {
      "cell_type": "code",
      "metadata": {
        "id": "36McShkcAVnQ"
      },
      "source": [
        "df = spark.read.format(\"csv\").option(\"header\", True).load('gdrive/My Drive/Data/logs.csv')\n",
        "contents_rdd = df.rdd"
      ],
      "execution_count": null,
      "outputs": []
    },
    {
      "cell_type": "code",
      "metadata": {
        "id": "ndMs9hoU_ixU"
      },
      "source": [
        "blockeadores = contents_rdd.filter(lambda x: x.logtype == \"block\")"
      ],
      "execution_count": null,
      "outputs": []
    },
    {
      "cell_type": "code",
      "metadata": {
        "colab": {
          "base_uri": "https://localhost:8080/"
        },
        "id": "J7qRyD9r_vQG",
        "outputId": "79036fec-fba3-43e4-c74c-d7725166d515"
      },
      "source": [
        "blockeadores.map(lambda x: (x.contributor_username, 1)).reduceByKey(lambda x,y: x+y)\\\n",
        ".reduce(lambda x,y: x if x[1] > y[1] else y)"
      ],
      "execution_count": null,
      "outputs": [
        {
          "output_type": "execute_result",
          "data": {
            "text/plain": [
              "('Magister Mathematicae', 30148)"
            ]
          },
          "metadata": {},
          "execution_count": 9
        }
      ]
    },
    {
      "cell_type": "markdown",
      "metadata": {
        "id": "EwgW8DFyikkI"
      },
      "source": [
        "# 14. El Top 5 de contenidos que tienen la mayor cantidad de redirecciones que apuntan a ellos. (1)"
      ]
    },
    {
      "cell_type": "code",
      "metadata": {
        "id": "nR0LRZBjANms"
      },
      "source": [
        "df = spark.read.format(\"csv\").option(\"header\", True).load('gdrive/My Drive/Data/redirect_list.csv')\n",
        "redirect_rdd = df.rdd"
      ],
      "execution_count": null,
      "outputs": []
    },
    {
      "cell_type": "code",
      "metadata": {
        "colab": {
          "base_uri": "https://localhost:8080/"
        },
        "id": "S_SufAZTDVEu",
        "outputId": "0efec76f-5049-4536-893e-9e394aac1fc7"
      },
      "source": [
        "redirect_rdd.map(lambda x: (x.rd_title, 1)).reduceByKey(lambda x,y: x+y)\\\n",
        ".takeOrdered(5, lambda x: -x[1])"
      ],
      "execution_count": null,
      "outputs": [
        {
          "output_type": "execute_result",
          "data": {
            "text/plain": [
              "[('Artículo_futuro', 1161),\n",
              " ('IV_milenio', 1001),\n",
              " ('V_milenio', 998),\n",
              " ('Estaciones_de_Metrobús_de_la_Ciudad_de_México', 396),\n",
              " ('163.117.0.0', 310)]"
            ]
          },
          "metadata": {},
          "execution_count": 11
        }
      ]
    },
    {
      "cell_type": "markdown",
      "metadata": {
        "id": "050Wq0jWiqaI"
      },
      "source": [
        "# 17. Para aquel contenido georeferenciado publicado anónimamente indicar por país, cuántas IPs de usuarios corresponden a IPv4 y cuantas a IPv6. (1)\n",
        "\n",
        "*   IPv4: 179.53.218.243\n",
        "*   IPv6: 2800:CD0:FC1B:A900:C5A4:9E81:7175:2ED2.\n",
        "\n",
        "\n"
      ]
    },
    {
      "cell_type": "code",
      "metadata": {
        "id": "23AoGRWmDeAp"
      },
      "source": [
        "df = spark.read.format(\"csv\").option(\"header\", True).load('gdrive/My Drive/Data/geo_tags.csv')\n",
        "geo_rdd = df.rdd"
      ],
      "execution_count": null,
      "outputs": []
    },
    {
      "cell_type": "code",
      "metadata": {
        "id": "U7ROjztSFvhN"
      },
      "source": [
        "df = spark.read.format(\"csv\").option(\"header\", True).load('gdrive/My Drive/Data/contents.csv')\n",
        "contents_rdd = df.rdd"
      ],
      "execution_count": null,
      "outputs": []
    },
    {
      "cell_type": "code",
      "metadata": {
        "id": "yPwme3NM1HXr"
      },
      "source": [
        "rddById_ip = contents_rdd.filter(lambda x: x.revisor_ip != None).map(lambda x: (x.id, x.revisor_ip)).cache()"
      ],
      "execution_count": null,
      "outputs": []
    },
    {
      "cell_type": "code",
      "metadata": {
        "id": "isiUJ1P50dpm"
      },
      "source": [
        "rddById_country = geo_rdd.filter(lambda x: x.gt_country != None).map(lambda x: (x.gt_page_id, x.gt_country))"
      ],
      "execution_count": null,
      "outputs": []
    },
    {
      "cell_type": "code",
      "metadata": {
        "colab": {
          "base_uri": "https://localhost:8080/"
        },
        "id": "Oyf2QDIae-RL",
        "outputId": "9c212a7d-acf6-4fbe-cc9d-283af8730729"
      },
      "source": [
        "rddById_country.join(rddById_ip).map(lambda x: (x[1],((x[1][0],'IPv6') if ':' in x[1][1] else (x[1][0],'IPv4'))))\\\n",
        ".map(lambda x: (x[1], 1)).reduceByKey(lambda x,y: x+y)\\\n",
        ".sortBy(lambda x: x[0][0]).collect()"
      ],
      "execution_count": null,
      "outputs": [
        {
          "output_type": "execute_result",
          "data": {
            "text/plain": [
              "[(('AE', 'IPv4'), 1),\n",
              " (('AE', 'IPv6'), 1),\n",
              " (('AF', 'IPv4'), 1),\n",
              " (('AQ', 'IPv4'), 5),\n",
              " (('AQ', 'IPv6'), 1),\n",
              " (('AR', 'IPv6'), 6),\n",
              " (('AR', 'IPv4'), 51),\n",
              " (('AT', 'IPv4'), 8),\n",
              " (('AU', 'IPv4'), 4),\n",
              " (('BE', 'IPv4'), 6),\n",
              " (('BO', 'IPv6'), 11),\n",
              " (('BO', 'IPv4'), 10),\n",
              " (('BR', 'IPv6'), 1),\n",
              " (('BR', 'IPv4'), 3),\n",
              " (('BS', 'IPv4'), 2),\n",
              " (('BZ', 'IPv4'), 1),\n",
              " (('CA', 'IPv4'), 9),\n",
              " (('CF', 'IPv4'), 1),\n",
              " (('CH', 'IPv4'), 2),\n",
              " (('CH', 'IPv6'), 1),\n",
              " (('CL', 'IPv4'), 52),\n",
              " (('CL', 'IPv6'), 3),\n",
              " (('CN', 'IPv4'), 3),\n",
              " (('CN', 'IPv6'), 1),\n",
              " (('CO', 'IPv4'), 24),\n",
              " (('CR', 'IPv4'), 41),\n",
              " (('CU', 'IPv4'), 2),\n",
              " (('CZ', 'IPv4'), 1),\n",
              " (('DE', 'IPv4'), 20),\n",
              " (('DE', 'IPv6'), 3),\n",
              " (('DK', 'IPv6'), 1),\n",
              " (('DK', 'IPv4'), 2),\n",
              " (('DO', 'IPv4'), 2),\n",
              " (('DZ', 'IPv6'), 1),\n",
              " (('EG', 'IPv4'), 2),\n",
              " (('EH', 'IPv4'), 1),\n",
              " (('ES', 'IPv6'), 4),\n",
              " (('ES', 'IPv4'), 557),\n",
              " (('FI', 'IPv6'), 1),\n",
              " (('FI', 'IPv4'), 2),\n",
              " (('FR', 'IPv4'), 35),\n",
              " (('FR', 'IPv6'), 3),\n",
              " (('GB', 'IPv6'), 3),\n",
              " (('GB', 'IPv4'), 39),\n",
              " (('GI', 'IPv4'), 1),\n",
              " (('GL', 'IPv4'), 1),\n",
              " (('GQ', 'IPv6'), 1),\n",
              " (('GR', 'IPv4'), 2),\n",
              " (('GT', 'IPv4'), 4),\n",
              " (('HK', 'IPv4'), 1),\n",
              " (('HR', 'IPv4'), 2),\n",
              " (('HT', 'IPv4'), 1),\n",
              " (('ID', 'IPv4'), 1),\n",
              " (('IE', 'IPv4'), 1),\n",
              " (('IL', 'IPv4'), 4),\n",
              " (('IM', 'IPv4'), 1),\n",
              " (('IN', 'IPv4'), 2),\n",
              " (('IQ', 'IPv4'), 1),\n",
              " (('IS', 'IPv4'), 1),\n",
              " (('IT', 'IPv6'), 3),\n",
              " (('IT', 'IPv4'), 17),\n",
              " (('JO', 'IPv4'), 1),\n",
              " (('JP', 'IPv6'), 1),\n",
              " (('JP', 'IPv4'), 26),\n",
              " (('KR', 'IPv4'), 1),\n",
              " (('LK', 'IPv4'), 1),\n",
              " (('LV', 'IPv4'), 1),\n",
              " (('MA', 'IPv4'), 1),\n",
              " (('MM', 'IPv4'), 1),\n",
              " (('MT', 'IPv4'), 1),\n",
              " (('MX', 'IPv4'), 40),\n",
              " (('MX', 'IPv6'), 3),\n",
              " (('NL', 'IPv4'), 6),\n",
              " (('NO', 'IPv4'), 2),\n",
              " (('PE', 'IPv4'), 1),\n",
              " (('PE', 'IPv6'), 102),\n",
              " (('PH', 'IPv4'), 2),\n",
              " (('PL', 'IPv4'), 1),\n",
              " (('PL', 'IPv6'), 1),\n",
              " (('PR', 'IPv4'), 1),\n",
              " (('PT', 'IPv4'), 2),\n",
              " (('RU', 'IPv4'), 7),\n",
              " (('SB', 'IPv4'), 1),\n",
              " (('SI', 'IPv4'), 1),\n",
              " (('SK', 'IPv4'), 1),\n",
              " (('SN', 'IPv4'), 1),\n",
              " (('TH', 'IPv6'), 1),\n",
              " (('TH', 'IPv4'), 2),\n",
              " (('TM', 'IPv4'), 1),\n",
              " (('TR', 'IPv4'), 5),\n",
              " (('UA', 'IPv4'), 3),\n",
              " (('US', 'IPv6'), 23),\n",
              " (('US', 'IPv4'), 160),\n",
              " (('UY', 'IPv4'), 1),\n",
              " (('XZ', 'IPv4'), 1)]"
            ]
          },
          "metadata": {},
          "execution_count": 16
        }
      ]
    },
    {
      "cell_type": "markdown",
      "metadata": {
        "id": "SyUSRZRHi2iY"
      },
      "source": [
        "# 15. Listado en orden de importancia (del más hablado al menos hablado) de los idiomas que manejan aquellos usuarios que hablan por lo menos tres idiomas. (2)\n",
        "\n",
        "\n",
        "\n",
        "\n"
      ]
    },
    {
      "cell_type": "code",
      "metadata": {
        "id": "9j3t9rC55Sw8"
      },
      "source": [
        "df = spark.read.format(\"csv\").option(\"header\", True).load('gdrive/My Drive/Data/languages.csv')\n",
        "languajes_rdd = df.rdd"
      ],
      "execution_count": null,
      "outputs": []
    },
    {
      "cell_type": "code",
      "metadata": {
        "id": "_XfG9FXmDzY1"
      },
      "source": [
        "languajes_3 = languajes_rdd.map(lambda x: (x.babel_user, 1)).reduceByKey(lambda x,y: x+y)\\\n",
        ".filter(lambda x: x[1] >=3)"
      ],
      "execution_count": null,
      "outputs": []
    },
    {
      "cell_type": "code",
      "metadata": {
        "colab": {
          "base_uri": "https://localhost:8080/"
        },
        "id": "nB7-8yxRFA6m",
        "outputId": "85db1fad-fff6-457c-b72d-fc13db5d8b98"
      },
      "source": [
        "languajes_3.join(languajes_rdd).map(lambda x: (x[1][1],1)).reduceByKey(lambda x,y: x+y).sortBy(lambda x: -x[1]).collect()"
      ],
      "execution_count": null,
      "outputs": [
        {
          "output_type": "execute_result",
          "data": {
            "text/plain": [
              "[('en', 6401),\n",
              " ('es', 6385),\n",
              " ('fr', 3488),\n",
              " ('it', 1766),\n",
              " ('de', 1710),\n",
              " ('pt', 1611),\n",
              " ('ca', 1256),\n",
              " ('ja', 483),\n",
              " ('ru', 469),\n",
              " ('gl', 464),\n",
              " ('la', 448),\n",
              " ('eo', 263),\n",
              " ('eu', 244),\n",
              " ('zh', 214),\n",
              " ('ar', 190),\n",
              " ('ast', 154),\n",
              " ('pl', 143),\n",
              " ('nl', 142),\n",
              " ('el', 125),\n",
              " ('sv', 117),\n",
              " ('he', 92),\n",
              " ('grc', 71),\n",
              " ('ko', 69),\n",
              " ('uk', 68),\n",
              " ('ro', 65),\n",
              " ('an', 59),\n",
              " ('fi', 56),\n",
              " ('no', 49),\n",
              " ('oc', 49),\n",
              " ('nah', 48),\n",
              " ('cs', 47),\n",
              " ('qu', 45),\n",
              " ('gn', 45),\n",
              " ('da', 42),\n",
              " ('hr', 42),\n",
              " ('tr', 42),\n",
              " ('lad', 42),\n",
              " ('hu', 40),\n",
              " ('sr', 38),\n",
              " ('fa', 33),\n",
              " ('bg', 31),\n",
              " ('sk', 27),\n",
              " ('be', 25),\n",
              " ('ia', 25),\n",
              " ('sl', 21),\n",
              " ('pt-BR', 21),\n",
              " ('id', 21),\n",
              " ('ext', 19),\n",
              " ('ga', 19),\n",
              " ('hi', 19),\n",
              " ('th', 18),\n",
              " ('arn', 18),\n",
              " ('et', 17),\n",
              " ('lt', 16),\n",
              " ('sh', 15),\n",
              " ('mk', 15),\n",
              " ('is', 14),\n",
              " ('io', 14),\n",
              " ('sa', 14),\n",
              " ('gsw', 14),\n",
              " ('qya', 13),\n",
              " ('bs', 13),\n",
              " ('simple', 12),\n",
              " ('scn', 12),\n",
              " ('sw', 12),\n",
              " ('nn', 12),\n",
              " ('yue', 12),\n",
              " ('af', 11),\n",
              " ('lv', 11),\n",
              " ('vec', 11),\n",
              " ('tl', 10),\n",
              " ('vi', 10),\n",
              " ('co', 10),\n",
              " ('sc', 10),\n",
              " ('ms', 10),\n",
              " ('nds', 10),\n",
              " ('sq', 9),\n",
              " ('cy', 9),\n",
              " ('hy', 9),\n",
              " ('nap', 9),\n",
              " ('rm', 9),\n",
              " ('yi', 9),\n",
              " ('az', 8),\n",
              " ('lmo', 8),\n",
              " ('pms', 8),\n",
              " ('kk', 7),\n",
              " ('ka', 7),\n",
              " ('ur', 7),\n",
              " ('sco', 7),\n",
              " ('bar', 7),\n",
              " ('frp', 7),\n",
              " ('en-GB', 7),\n",
              " ('fy', 7),\n",
              " ('ang', 6),\n",
              " ('mwl', 6),\n",
              " ('gd', 6),\n",
              " ('ssp', 6),\n",
              " ('lb', 5),\n",
              " ('uz', 5),\n",
              " ('kn', 5),\n",
              " ('ta', 5),\n",
              " ('sjn', 5),\n",
              " ('jv', 5),\n",
              " ('ht', 5),\n",
              " ('arc', 5),\n",
              " ('ay', 5),\n",
              " ('ceb', 4),\n",
              " ('su', 4),\n",
              " ('mt', 4),\n",
              " ('hsb', 4),\n",
              " ('ie', 4),\n",
              " ('sgs', 4),\n",
              " ('nb', 4),\n",
              " ('br', 4),\n",
              " ('fur', 4),\n",
              " ('lfn', 4),\n",
              " ('nan', 4),\n",
              " ('min', 3),\n",
              " ('am', 3),\n",
              " ('lo', 3),\n",
              " ('lzh', 3),\n",
              " ('mg', 3),\n",
              " ('rue', 3),\n",
              " ('got', 3),\n",
              " ('si', 3),\n",
              " ('mr', 3),\n",
              " ('tlh', 3),\n",
              " ('zh-Hans-CN', 3),\n",
              " ('mo', 3),\n",
              " ('pap', 3),\n",
              " ('se', 3),\n",
              " ('ase', 3),\n",
              " ('ky', 3),\n",
              " ('tk', 3),\n",
              " ('ab', 2),\n",
              " ('ace', 2),\n",
              " ('bcl', 2),\n",
              " ('bjn', 2),\n",
              " ('din', 2),\n",
              " ('lij', 2),\n",
              " ('pcd', 2),\n",
              " ('sdc', 2),\n",
              " ('mn', 2),\n",
              " ('nrm', 2),\n",
              " ('qwh', 2),\n",
              " ('yua', 2),\n",
              " ('qug', 2),\n",
              " ('fo', 2),\n",
              " ('vsv', 2),\n",
              " ('mi', 2),\n",
              " ('eml', 2),\n",
              " ('haw', 2),\n",
              " ('km', 2),\n",
              " ('krl', 2),\n",
              " ('zu', 2),\n",
              " ('jbo', 2),\n",
              " ('ch', 2),\n",
              " ('bug', 2),\n",
              " ('war', 2),\n",
              " ('aln', 2),\n",
              " ('wa', 2),\n",
              " ('tg', 2),\n",
              " ('my', 2),\n",
              " ('shn', 2),\n",
              " ('ku', 2),\n",
              " ('sux', 2),\n",
              " ('cv', 2),\n",
              " ('rw', 2),\n",
              " ('te', 2),\n",
              " ('azb', 2),\n",
              " ('chr', 2),\n",
              " ('en-CA', 2),\n",
              " ('kl', 2),\n",
              " ('nv', 2),\n",
              " ('sm', 2),\n",
              " ('tet', 2),\n",
              " ('tpi', 2),\n",
              " ('zea', 2),\n",
              " ('cbk', 1),\n",
              " ('ilo', 1),\n",
              " ('map-bms', 1),\n",
              " ('pag', 1),\n",
              " ('pam', 1),\n",
              " ('neu', 1),\n",
              " ('cu', 1),\n",
              " ('vo', 1),\n",
              " ('rgn', 1),\n",
              " ('mnw', 1),\n",
              " ('cnt', 1),\n",
              " ('tzo', 1),\n",
              " ('zap', 1),\n",
              " ('cas', 1),\n",
              " ('cmn', 1),\n",
              " ('wuu', 1),\n",
              " ('tmr', 1),\n",
              " ('ots', 1),\n",
              " ('aa', 1),\n",
              " ('av', 1),\n",
              " ('ba', 1),\n",
              " ('ban', 1),\n",
              " ('be-tarask', 1),\n",
              " ('bm', 1),\n",
              " ('bn', 1),\n",
              " ('bo', 1),\n",
              " ('de-AT', 1),\n",
              " ('de-CH', 1),\n",
              " ('diq', 1),\n",
              " ('dsb', 1),\n",
              " ('frc', 1),\n",
              " ('gcr', 1),\n",
              " ('hak', 1),\n",
              " ('ike-Cans', 1),\n",
              " ('jam', 1),\n",
              " ('kv', 1),\n",
              " ('mrj', 1),\n",
              " ('mus', 1),\n",
              " ('ny', 1),\n",
              " ('pih', 1),\n",
              " ('rn', 1),\n",
              " ('ss', 1),\n",
              " ('tay', 1),\n",
              " ('guc', 1),\n",
              " ('rom', 1),\n",
              " ('ppl', 1),\n",
              " ('csb', 1),\n",
              " ('szl', 1),\n",
              " ('zza', 1),\n",
              " ('de-at', 1),\n",
              " ('li', 1),\n",
              " ('csn', 1),\n",
              " ('kw', 1),\n",
              " ('zh-Hant', 1),\n",
              " ('sdh', 1),\n",
              " ('ml', 1),\n",
              " ('hch', 1),\n",
              " ('mfs', 1),\n",
              " ('bew', 1),\n",
              " ('fil', 1),\n",
              " ('kbp', 1),\n",
              " ('acf', 1),\n",
              " ('ti', 1),\n",
              " ('non', 1),\n",
              " ('rup', 1),\n",
              " ('nov', 1),\n",
              " ('or', 1),\n",
              " ('pnt', 1),\n",
              " ('mbr', 1),\n",
              " ('pbb', 1),\n",
              " ('avk', 1),\n",
              " ('tzh', 1),\n",
              " ('qub', 1),\n",
              " ('mur', 1),\n",
              " ('sdn', 1),\n",
              " ('csc', 1),\n",
              " ('ise', 1),\n",
              " ('lez', 1),\n",
              " ('ugy', 1),\n",
              " ('pt-br', 1),\n",
              " ('nla', 1),\n",
              " ('gym', 1),\n",
              " ('fax', 1),\n",
              " ('tzm', 1),\n",
              " ('gom-Latn', 1),\n",
              " ('ln', 1),\n",
              " ('gan', 1),\n",
              " ('FR', 1),\n",
              " ('alt', 1),\n",
              " ('bi', 1),\n",
              " ('cho', 1),\n",
              " ('cr', 1),\n",
              " ('dz', 1),\n",
              " ('ee', 1),\n",
              " ('fj', 1),\n",
              " ('gag', 1),\n",
              " ('gor', 1),\n",
              " ('gv', 1),\n",
              " ('ig', 1),\n",
              " ('ii', 1),\n",
              " ('ike-Latn', 1),\n",
              " ('iu', 1),\n",
              " ('kg', 1),\n",
              " ('lbe', 1),\n",
              " ('loz', 1),\n",
              " ('lrc', 1),\n",
              " ('mad', 1),\n",
              " ('na', 1),\n",
              " ('ne', 1),\n",
              " ('nia', 1),\n",
              " ('pdc', 1),\n",
              " ('ps', 1),\n",
              " ('sg', 1),\n",
              " ('srn', 1),\n",
              " ('tn', 1),\n",
              " ('to', 1),\n",
              " ('wo', 1),\n",
              " ('agr', 1),\n",
              " ('akk', 1),\n",
              " ('egy', 1),\n",
              " ('miq', 1),\n",
              " ('prl', 1),\n",
              " ('shp', 1),\n",
              " ('en-gb', 1),\n",
              " ('ckb', 1),\n",
              " ('ary', 1),\n",
              " ('frr', 1),\n",
              " ('stq', 1),\n",
              " ('cak', 1),\n",
              " ('ltg', 1),\n",
              " ('pnb', 1),\n",
              " ('pfl', 1),\n",
              " ('zh-Hans', 1),\n",
              " ('zh-Hant-HK', 1),\n",
              " ('zh-Hant-TW', 1),\n",
              " ('kea', 1),\n",
              " ('xcw', 1),\n",
              " ('pi', 1),\n",
              " ('oj', 1),\n",
              " ('lzz', 1)]"
            ]
          },
          "metadata": {},
          "execution_count": 19
        }
      ]
    },
    {
      "cell_type": "markdown",
      "metadata": {
        "id": "WaGRCFiZjEeE"
      },
      "source": [
        "# 29. Para los contenidos visibles en wikipedia, cuales son los artículos que tienen la máxima y mínima distancia entre ids de su revisión actual y la anterior (2)\n",
        "\n"
      ]
    },
    {
      "cell_type": "code",
      "metadata": {
        "id": "E9ZyhddmxwvZ"
      },
      "source": [
        "df = spark.read.format(\"csv\").option(\"header\", True).load('gdrive/My Drive/Data/contents.csv')\n",
        "contents_rdd = df.rdd"
      ],
      "execution_count": null,
      "outputs": []
    },
    {
      "cell_type": "code",
      "metadata": {
        "id": "t3cKykz6wgOJ"
      },
      "source": [
        "contents_rdd = contents_rdd.filter(lambda x: x.id != None and x.id.isnumeric() and x.revision_id !=None and x.revision_id.isnumeric()and x.parent_revision != None and x.parent_revision.isnumeric())"
      ],
      "execution_count": null,
      "outputs": []
    },
    {
      "cell_type": "code",
      "metadata": {
        "colab": {
          "base_uri": "https://localhost:8080/"
        },
        "id": "fHAR5CLWvrvx",
        "outputId": "ed53210b-293a-4426-88ad-26e1503c5fc2"
      },
      "source": [
        "contents_rdd.reduce(lambda x,y: x if (float(x.revision_id) - float(x.parent_revision))**2 > (float(y.revision_id) - float(y.parent_revision))**2 else y)"
      ],
      "execution_count": null,
      "outputs": [
        {
          "output_type": "execute_result",
          "data": {
            "text/plain": [
              "Row(title='CEDA', id='30623', namespace='0', revision_id='138003942', parent_revision='857196', revision_timestamp='2021-08-30T10:45:27Z', revisor_username='PabloTecEspaña', revisor_id='5783560', revisor_ip=None, revisor_comment='Traducción de código.')"
            ]
          },
          "metadata": {},
          "execution_count": 22
        }
      ]
    },
    {
      "cell_type": "code",
      "metadata": {
        "colab": {
          "base_uri": "https://localhost:8080/"
        },
        "id": "v1QA5RX2w_xZ",
        "outputId": "326573b2-8fb2-494d-e00e-56ee97e0ac29"
      },
      "source": [
        "contents_rdd.reduce(lambda x,y: x if (float(x.revision_id) - float(x.parent_revision))**2 < (float(y.revision_id) - float(y.parent_revision))**2 else y)"
      ],
      "execution_count": null,
      "outputs": [
        {
          "output_type": "execute_result",
          "data": {
            "text/plain": [
              "Row(title='Río Mātukituki', id='10010546', namespace='0', revision_id='138051023', parent_revision='138051022', revision_timestamp='2021-09-01T10:25:09Z', revisor_username='Lorito987', revisor_id='5952489', revisor_ip=None, revisor_comment=None)"
            ]
          },
          "metadata": {},
          "execution_count": 23
        }
      ]
    },
    {
      "cell_type": "markdown",
      "metadata": {
        "id": "qjwJCjLE9mKC"
      },
      "source": [
        "# 25. Obtenga con spark los datos (de forma ya agregada) que le permitan realizar la siguiente visualización y realice la misma (3)"
      ]
    },
    {
      "cell_type": "code",
      "metadata": {
        "id": "APaXR2tlg8u7"
      },
      "source": [
        "df = spark.read.format(\"csv\").option(\"header\", True).load('gdrive/My Drive/Data/logs.csv')\n",
        "logs_rdd = df.rdd"
      ],
      "execution_count": null,
      "outputs": []
    },
    {
      "cell_type": "code",
      "metadata": {
        "id": "QwJfDwNcj8C9"
      },
      "source": [
        "sample_logs_rdd = logs_rdd.sample(False, 0.01)"
      ],
      "execution_count": null,
      "outputs": []
    },
    {
      "cell_type": "code",
      "metadata": {
        "id": "ZrI1sctSiEyk"
      },
      "source": [
        "sample_logs_rdd = sample_logs_rdd.filter(lambda x: x.logtype in ['autocreate','block','create','delete','move']and x.contributor_username != None)\\\n",
        ".map(lambda x: (x.contributor_username, x.logtype)).cache()"
      ],
      "execution_count": null,
      "outputs": []
    },
    {
      "cell_type": "code",
      "metadata": {
        "id": "eBF0-z6YqR6n"
      },
      "source": [
        "logs_by_people = sample_logs_rdd.map(lambda x: (x[0],x[1]))"
      ],
      "execution_count": null,
      "outputs": []
    },
    {
      "cell_type": "code",
      "metadata": {
        "colab": {
          "base_uri": "https://localhost:8080/"
        },
        "id": "281HPJ1iz62O",
        "outputId": "35e24cca-ca7b-4546-88a8-cd256722d161"
      },
      "source": [
        "logs_by_people.take(10)"
      ],
      "execution_count": null,
      "outputs": [
        {
          "output_type": "execute_result",
          "data": {
            "text/plain": [
              "[('Sanbec', 'delete'),\n",
              " ('Joseaperez', 'delete'),\n",
              " ('Sabbut', 'delete'),\n",
              " ('Sabbut', 'delete'),\n",
              " ('Dodo', 'delete'),\n",
              " ('Dodo', 'delete'),\n",
              " ('Dodo', 'delete'),\n",
              " ('Cookie', 'delete'),\n",
              " ('Dodo', 'delete'),\n",
              " ('JorgeGG', 'delete')]"
            ]
          },
          "metadata": {},
          "execution_count": 28
        }
      ]
    },
    {
      "cell_type": "code",
      "metadata": {
        "colab": {
          "base_uri": "https://localhost:8080/"
        },
        "id": "oougE9tU3ilQ",
        "outputId": "30632edb-e387-4742-e692-775303612ced"
      },
      "source": [
        "logs_by_people.map(lambda x: (x[1], 1)).reduceByKey(lambda x,y: x+y).take(3)"
      ],
      "execution_count": null,
      "outputs": [
        {
          "output_type": "execute_result",
          "data": {
            "text/plain": [
              "[('block', 3582), ('create', 11983), ('move', 9512)]"
            ]
          },
          "metadata": {},
          "execution_count": 29
        }
      ]
    },
    {
      "cell_type": "code",
      "metadata": {
        "colab": {
          "base_uri": "https://localhost:8080/"
        },
        "id": "Dng0A5XD1MNS",
        "outputId": "9ccc625a-edb3-41c2-c623-eedccef0cc86"
      },
      "source": [
        "logs_by_people.groupByKey().mapValues(list).take(3)"
      ],
      "execution_count": null,
      "outputs": [
        {
          "output_type": "execute_result",
          "data": {
            "text/plain": [
              "[('Joseaperez',\n",
              "  ['delete',\n",
              "   'delete',\n",
              "   'delete',\n",
              "   'delete',\n",
              "   'delete',\n",
              "   'delete',\n",
              "   'delete',\n",
              "   'delete',\n",
              "   'delete',\n",
              "   'delete',\n",
              "   'delete',\n",
              "   'delete',\n",
              "   'delete',\n",
              "   'delete',\n",
              "   'delete',\n",
              "   'delete',\n",
              "   'delete',\n",
              "   'delete',\n",
              "   'delete',\n",
              "   'delete',\n",
              "   'delete',\n",
              "   'delete',\n",
              "   'delete',\n",
              "   'delete',\n",
              "   'delete',\n",
              "   'delete',\n",
              "   'delete',\n",
              "   'delete',\n",
              "   'delete',\n",
              "   'delete',\n",
              "   'delete',\n",
              "   'delete',\n",
              "   'delete',\n",
              "   'delete',\n",
              "   'delete',\n",
              "   'delete',\n",
              "   'delete',\n",
              "   'delete',\n",
              "   'delete',\n",
              "   'delete',\n",
              "   'delete',\n",
              "   'block',\n",
              "   'move',\n",
              "   'delete',\n",
              "   'delete',\n",
              "   'delete',\n",
              "   'delete',\n",
              "   'delete',\n",
              "   'delete',\n",
              "   'delete',\n",
              "   'delete']),\n",
              " ('Javier Carro',\n",
              "  ['delete',\n",
              "   'delete',\n",
              "   'delete',\n",
              "   'move',\n",
              "   'move',\n",
              "   'delete',\n",
              "   'delete',\n",
              "   'delete',\n",
              "   'delete',\n",
              "   'delete',\n",
              "   'delete',\n",
              "   'delete',\n",
              "   'delete']),\n",
              " ('Wricardoh',\n",
              "  ['delete',\n",
              "   'delete',\n",
              "   'delete',\n",
              "   'delete',\n",
              "   'delete',\n",
              "   'delete',\n",
              "   'delete',\n",
              "   'delete',\n",
              "   'delete',\n",
              "   'delete',\n",
              "   'delete',\n",
              "   'block',\n",
              "   'delete',\n",
              "   'block',\n",
              "   'delete',\n",
              "   'delete',\n",
              "   'delete',\n",
              "   'delete',\n",
              "   'delete',\n",
              "   'delete'])]"
            ]
          },
          "metadata": {},
          "execution_count": 30
        }
      ]
    }
  ]
}